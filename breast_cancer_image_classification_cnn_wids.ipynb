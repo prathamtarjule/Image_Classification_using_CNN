{
 "cells": [
  {
   "cell_type": "markdown",
   "metadata": {},
   "source": [
    "# Breast Cancer Image Classification Using CNN"
   ]
  },
  {
   "cell_type": "markdown",
   "metadata": {},
   "source": [
    "## Importing libraries"
   ]
  },
  {
   "cell_type": "code",
   "execution_count": 1,
   "metadata": {},
   "outputs": [],
   "source": [
    "import tensorflow as tf\n",
    "import pandas as pd \n",
    "import seaborn as sns\n",
    "import os\n",
    "import numpy as np\n",
    "import matplotlib.pyplot as plt \n",
    "import pathlib \n",
    "import random"
   ]
  },
  {
   "cell_type": "code",
   "execution_count": 2,
   "metadata": {
    "execution": {
     "iopub.execute_input": "2022-10-04T10:53:30.507548Z",
     "iopub.status.busy": "2022-10-04T10:53:30.506943Z",
     "iopub.status.idle": "2022-10-04T10:53:30.516955Z",
     "shell.execute_reply": "2022-10-04T10:53:30.516060Z",
     "shell.execute_reply.started": "2022-10-04T10:53:30.507482Z"
    }
   },
   "outputs": [],
   "source": [
    "path = 'C:/Users/PRATHAM/Downloads//Dataset_BUSI_with_GT/'\n",
    "data_dir = pathlib.Path(path)"
   ]
  },
  {
   "cell_type": "code",
   "execution_count": 3,
   "metadata": {
    "execution": {
     "iopub.execute_input": "2022-10-04T10:53:30.650956Z",
     "iopub.status.busy": "2022-10-04T10:53:30.650172Z",
     "iopub.status.idle": "2022-10-04T10:53:30.656747Z",
     "shell.execute_reply": "2022-10-04T10:53:30.655406Z",
     "shell.execute_reply.started": "2022-10-04T10:53:30.650918Z"
    }
   },
   "outputs": [],
   "source": [
    "benignPath = os.path.join(data_dir,'bening')\n",
    "malignantPath = os.path.join(data_dir,'malignant')\n",
    "normalPath = os.path.join(data_dir,'normal')"
   ]
  },
  {
   "cell_type": "markdown",
   "metadata": {},
   "source": [
    "## Building the CNN"
   ]
  },
  {
   "cell_type": "code",
   "execution_count": 4,
   "metadata": {
    "execution": {
     "iopub.execute_input": "2022-10-04T10:53:36.401134Z",
     "iopub.status.busy": "2022-10-04T10:53:36.400731Z",
     "iopub.status.idle": "2022-10-04T10:53:36.406795Z",
     "shell.execute_reply": "2022-10-04T10:53:36.405514Z",
     "shell.execute_reply.started": "2022-10-04T10:53:36.401086Z"
    }
   },
   "outputs": [],
   "source": [
    "batch_size = 32\n",
    "img_height = 224\n",
    "img_width = 224"
   ]
  },
  {
   "cell_type": "markdown",
   "metadata": {},
   "source": [
    "**Separating data sets**"
   ]
  },
  {
   "cell_type": "code",
   "execution_count": 5,
   "metadata": {
    "execution": {
     "iopub.execute_input": "2022-10-04T10:53:36.409886Z",
     "iopub.status.busy": "2022-10-04T10:53:36.409537Z",
     "iopub.status.idle": "2022-10-04T10:53:36.664337Z",
     "shell.execute_reply": "2022-10-04T10:53:36.663026Z",
     "shell.execute_reply.started": "2022-10-04T10:53:36.409855Z"
    }
   },
   "outputs": [
    {
     "name": "stdout",
     "output_type": "stream",
     "text": [
      "Found 1578 files belonging to 3 classes.\n",
      "Using 1263 files for training.\n"
     ]
    }
   ],
   "source": [
    "from tensorflow.keras.utils import image_dataset_from_directory\n",
    "\n",
    "train_data = image_dataset_from_directory( data_dir, validation_split=0.2, subset=\"training\",seed=123,image_size=(img_height, img_width), batch_size=batch_size)"
   ]
  },
  {
   "cell_type": "code",
   "execution_count": 6,
   "metadata": {},
   "outputs": [
    {
     "name": "stdout",
     "output_type": "stream",
     "text": [
      "Found 1578 files belonging to 3 classes.\n",
      "Using 315 files for validation.\n"
     ]
    }
   ],
   "source": [
    "val_data = image_dataset_from_directory(data_dir,validation_split=0.2,subset=\"validation\",seed=123,image_size=(img_height,img_width),batch_size=batch_size)"
   ]
  },
  {
   "cell_type": "markdown",
   "metadata": {},
   "source": [
    "# Defining the Model"
   ]
  },
  {
   "cell_type": "code",
   "execution_count": 7,
   "metadata": {
    "execution": {
     "iopub.execute_input": "2022-10-04T10:53:36.666288Z",
     "iopub.status.busy": "2022-10-04T10:53:36.665912Z",
     "iopub.status.idle": "2022-10-04T10:53:36.772283Z",
     "shell.execute_reply": "2022-10-04T10:53:36.771112Z",
     "shell.execute_reply.started": "2022-10-04T10:53:36.666255Z"
    }
   },
   "outputs": [],
   "source": [
    "from tensorflow.keras import layers \n",
    "model = tf.keras.Sequential([\n",
    "  layers.Rescaling(1./255, input_shape=(img_height, img_width, 3)),\n",
    "    \n",
    "  layers.Conv2D(16, 3, padding='same', activation='relu'),\n",
    "  layers.MaxPooling2D(),\n",
    "    \n",
    "  layers.Conv2D(32, 3, padding='same', activation='relu'),\n",
    "  layers.MaxPooling2D(),\n",
    "    \n",
    "  layers.Conv2D(64, 3, padding='same', activation='relu'),\n",
    "  layers.MaxPooling2D(),\n",
    "    \n",
    "  layers.Dropout(0.5),\n",
    "  layers.Flatten(),\n",
    "  layers.Dense(128, activation='relu'),\n",
    "  layers.Dense(3,activation=\"softmax\")\n",
    "])"
   ]
  },
  {
   "cell_type": "markdown",
   "metadata": {},
   "source": [
    "# Compiling the Model"
   ]
  },
  {
   "cell_type": "code",
   "execution_count": 8,
   "metadata": {
    "execution": {
     "iopub.execute_input": "2022-10-04T10:53:36.774394Z",
     "iopub.status.busy": "2022-10-04T10:53:36.773668Z",
     "iopub.status.idle": "2022-10-04T10:53:36.786574Z",
     "shell.execute_reply": "2022-10-04T10:53:36.785220Z",
     "shell.execute_reply.started": "2022-10-04T10:53:36.774346Z"
    }
   },
   "outputs": [],
   "source": [
    "model.compile(optimizer=\"Adam\",\n",
    "            loss=tf.keras.losses.SparseCategoricalCrossentropy(from_logits=True),\n",
    "            metrics=[\"accuracy\"])"
   ]
  },
  {
   "cell_type": "code",
   "execution_count": 9,
   "metadata": {
    "execution": {
     "iopub.execute_input": "2022-10-04T10:53:36.788675Z",
     "iopub.status.busy": "2022-10-04T10:53:36.788339Z",
     "iopub.status.idle": "2022-10-04T10:54:14.903952Z",
     "shell.execute_reply": "2022-10-04T10:54:14.902949Z",
     "shell.execute_reply.started": "2022-10-04T10:53:36.788644Z"
    }
   },
   "outputs": [
    {
     "name": "stdout",
     "output_type": "stream",
     "text": [
      "Epoch 1/20\n"
     ]
    },
    {
     "name": "stderr",
     "output_type": "stream",
     "text": [
      "C:\\Users\\PRATHAM\\AppData\\Local\\Packages\\PythonSoftwareFoundation.Python.3.9_qbz5n2kfra8p0\\LocalCache\\local-packages\\Python39\\site-packages\\tensorflow\\python\\util\\dispatch.py:1082: UserWarning: \"`sparse_categorical_crossentropy` received `from_logits=True`, but the `output` argument was produced by a sigmoid or softmax activation and thus does not represent logits. Was this intended?\"\n",
      "  return dispatch_target(*args, **kwargs)\n"
     ]
    },
    {
     "name": "stdout",
     "output_type": "stream",
     "text": [
      "40/40 [==============================] - 27s 667ms/step - loss: 0.9205 - accuracy: 0.5717 - val_loss: 0.7671 - val_accuracy: 0.6857\n",
      "Epoch 2/20\n",
      "40/40 [==============================] - 28s 685ms/step - loss: 0.6842 - accuracy: 0.7015 - val_loss: 0.7106 - val_accuracy: 0.6762\n",
      "Epoch 3/20\n",
      "40/40 [==============================] - 28s 683ms/step - loss: 0.5539 - accuracy: 0.7561 - val_loss: 0.7296 - val_accuracy: 0.6889\n",
      "Epoch 4/20\n",
      "40/40 [==============================] - 28s 683ms/step - loss: 0.4368 - accuracy: 0.8108 - val_loss: 0.7543 - val_accuracy: 0.7175\n",
      "Epoch 5/20\n",
      "40/40 [==============================] - 28s 691ms/step - loss: 0.3488 - accuracy: 0.8504 - val_loss: 0.8048 - val_accuracy: 0.7333\n",
      "Epoch 6/20\n",
      "40/40 [==============================] - 28s 684ms/step - loss: 0.2775 - accuracy: 0.8876 - val_loss: 1.0333 - val_accuracy: 0.7778\n",
      "Epoch 7/20\n",
      "40/40 [==============================] - 28s 692ms/step - loss: 0.2277 - accuracy: 0.9177 - val_loss: 0.9369 - val_accuracy: 0.7778\n",
      "Epoch 8/20\n",
      "40/40 [==============================] - 31s 770ms/step - loss: 0.1689 - accuracy: 0.9454 - val_loss: 1.1763 - val_accuracy: 0.7746\n",
      "Epoch 9/20\n",
      "40/40 [==============================] - 33s 801ms/step - loss: 0.1861 - accuracy: 0.9406 - val_loss: 1.0711 - val_accuracy: 0.7206\n",
      "Epoch 10/20\n",
      "40/40 [==============================] - 31s 773ms/step - loss: 0.1326 - accuracy: 0.9541 - val_loss: 1.4408 - val_accuracy: 0.7492\n",
      "Epoch 11/20\n",
      "40/40 [==============================] - 32s 789ms/step - loss: 0.0659 - accuracy: 0.9786 - val_loss: 1.6006 - val_accuracy: 0.7714\n",
      "Epoch 12/20\n",
      "40/40 [==============================] - 32s 779ms/step - loss: 0.0562 - accuracy: 0.9850 - val_loss: 1.6025 - val_accuracy: 0.7683\n",
      "Epoch 13/20\n",
      "40/40 [==============================] - 29s 714ms/step - loss: 0.0341 - accuracy: 0.9873 - val_loss: 1.9230 - val_accuracy: 0.7302\n",
      "Epoch 14/20\n",
      "40/40 [==============================] - 29s 710ms/step - loss: 0.0664 - accuracy: 0.9802 - val_loss: 1.6153 - val_accuracy: 0.7365\n",
      "Epoch 15/20\n",
      "40/40 [==============================] - 29s 711ms/step - loss: 0.0566 - accuracy: 0.9865 - val_loss: 1.7009 - val_accuracy: 0.7651\n",
      "Epoch 16/20\n",
      "40/40 [==============================] - 29s 716ms/step - loss: 0.0297 - accuracy: 0.9921 - val_loss: 1.6932 - val_accuracy: 0.7746\n",
      "Epoch 17/20\n",
      "40/40 [==============================] - 29s 711ms/step - loss: 0.0401 - accuracy: 0.9897 - val_loss: 1.9346 - val_accuracy: 0.7651\n",
      "Epoch 18/20\n",
      "40/40 [==============================] - 29s 717ms/step - loss: 0.0320 - accuracy: 0.9929 - val_loss: 1.9002 - val_accuracy: 0.7746\n",
      "Epoch 19/20\n",
      "40/40 [==============================] - 29s 712ms/step - loss: 0.0229 - accuracy: 0.9913 - val_loss: 1.8484 - val_accuracy: 0.7492\n",
      "Epoch 20/20\n",
      "40/40 [==============================] - 29s 714ms/step - loss: 0.0190 - accuracy: 0.9952 - val_loss: 2.0691 - val_accuracy: 0.7492\n"
     ]
    }
   ],
   "source": [
    "epochs = 20\n",
    "history = model.fit(train_data,\n",
    "                    epochs=epochs,\n",
    "                    validation_data=val_data, \n",
    "                    batch_size=batch_size)"
   ]
  },
  {
   "cell_type": "markdown",
   "metadata": {},
   "source": [
    "**Keys**"
   ]
  },
  {
   "cell_type": "code",
   "execution_count": 10,
   "metadata": {
    "execution": {
     "iopub.execute_input": "2022-10-04T10:54:14.905794Z",
     "iopub.status.busy": "2022-10-04T10:54:14.905455Z",
     "iopub.status.idle": "2022-10-04T10:54:14.913181Z",
     "shell.execute_reply": "2022-10-04T10:54:14.912236Z",
     "shell.execute_reply.started": "2022-10-04T10:54:14.905764Z"
    }
   },
   "outputs": [
    {
     "data": {
      "text/plain": [
       "dict_keys(['loss', 'accuracy', 'val_loss', 'val_accuracy'])"
      ]
     },
     "execution_count": 10,
     "metadata": {},
     "output_type": "execute_result"
    }
   ],
   "source": [
    "history.history.keys()"
   ]
  },
  {
   "cell_type": "markdown",
   "metadata": {},
   "source": [
    "# Accuracy vs Loss"
   ]
  },
  {
   "cell_type": "code",
   "execution_count": 11,
   "metadata": {},
   "outputs": [
    {
     "data": {
      "image/png": "[encoded data removed]",
      "text/plain": [
       "<Figure size 576x576 with 1 Axes>"
      ]
     },
     "metadata": {
      "needs_background": "light"
     },
     "output_type": "display_data"
    }
   ],
   "source": [
    "plt.figure(figsize=(8, 8))\n",
    "plt.title(\"Learning curve\")\n",
    "plt.plot(history.history[\"loss\"], label=\"loss\")\n",
    "plt.plot(history.history[\"val_loss\"], label=\"val_loss\")\n",
    "plt.plot( np.argmin(history.history[\"val_loss\"]), np.min(history.history[\"val_loss\"]), marker=\"x\", color=\"r\", label=\"best model\")\n",
    "plt.xlabel(\"Epochs\")\n",
    "plt.ylabel(\"log_loss\")\n",
    "plt.legend();"
   ]
  },
  {
   "cell_type": "code",
   "execution_count": 12,
   "metadata": {
    "execution": {
     "iopub.execute_input": "2022-10-04T10:54:14.915429Z",
     "iopub.status.busy": "2022-10-04T10:54:14.914590Z",
     "iopub.status.idle": "2022-10-04T10:54:15.263588Z",
     "shell.execute_reply": "2022-10-04T10:54:15.262392Z",
     "shell.execute_reply.started": "2022-10-04T10:54:14.915395Z"
    }
   },
   "outputs": [
    {
     "data": {
      "image/png": "[encoded data removed]",
      "text/plain": [
       "<Figure size 576x576 with 1 Axes>"
      ]
     },
     "metadata": {
      "needs_background": "light"
     },
     "output_type": "display_data"
    }
   ],
   "source": [
    "acc = history.history['accuracy']\n",
    "val_acc =  history.history['val_accuracy']\n",
    "\n",
    "epochs_range = range(epochs)\n",
    "\n",
    "plt.figure(figsize=(8,8))\n",
    "plt.subplot(1,2,1)\n",
    "plt.plot(epochs_range,acc,label='Accuracy')\n",
    "plt.plot(epochs_range,val_acc,label=\"Validation Accuracy\")\n",
    "plt.legend()\n",
    "plt.show()"
   ]
  },
  {
   "cell_type": "code",
   "execution_count": 13,
   "metadata": {
    "execution": {
     "iopub.execute_input": "2022-10-04T10:54:15.267018Z",
     "iopub.status.busy": "2022-10-04T10:54:15.266381Z",
     "iopub.status.idle": "2022-10-04T10:54:17.124732Z",
     "shell.execute_reply": "2022-10-04T10:54:17.123631Z",
     "shell.execute_reply.started": "2022-10-04T10:54:15.266981Z"
    }
   },
   "outputs": [
    {
     "name": "stdout",
     "output_type": "stream",
     "text": [
      "10/10 [==============================] - 2s 161ms/step - loss: 2.0691 - accuracy: 0.7492\n"
     ]
    },
    {
     "data": {
      "text/plain": [
       "[2.069089412689209, 0.7492063641548157]"
      ]
     },
     "execution_count": 13,
     "metadata": {},
     "output_type": "execute_result"
    }
   ],
   "source": [
    "model.evaluate(val_data)"
   ]
  },
  {
   "cell_type": "code",
   "execution_count": 14,
   "metadata": {
    "execution": {
     "iopub.execute_input": "2022-10-04T10:54:17.126968Z",
     "iopub.status.busy": "2022-10-04T10:54:17.126525Z",
     "iopub.status.idle": "2022-10-04T10:54:17.136050Z",
     "shell.execute_reply": "2022-10-04T10:54:17.134642Z",
     "shell.execute_reply.started": "2022-10-04T10:54:17.126921Z"
    }
   },
   "outputs": [
    {
     "name": "stdout",
     "output_type": "stream",
     "text": [
      "Model: \"sequential\"\n",
      "_________________________________________________________________\n",
      " Layer (type)                Output Shape              Param #   \n",
      "=================================================================\n",
      " rescaling (Rescaling)       (None, 224, 224, 3)       0         \n",
      "                                                                 \n",
      " conv2d (Conv2D)             (None, 224, 224, 16)      448       \n",
      "                                                                 \n",
      " max_pooling2d (MaxPooling2D  (None, 112, 112, 16)     0         \n",
      " )                                                               \n",
      "                                                                 \n",
      " conv2d_1 (Conv2D)           (None, 112, 112, 32)      4640      \n",
      "                                                                 \n",
      " max_pooling2d_1 (MaxPooling  (None, 56, 56, 32)       0         \n",
      " 2D)                                                             \n",
      "                                                                 \n",
      " conv2d_2 (Conv2D)           (None, 56, 56, 64)        18496     \n",
      "                                                                 \n",
      " max_pooling2d_2 (MaxPooling  (None, 28, 28, 64)       0         \n",
      " 2D)                                                             \n",
      "                                                                 \n",
      " dropout (Dropout)           (None, 28, 28, 64)        0         \n",
      "                                                                 \n",
      " flatten (Flatten)           (None, 50176)             0         \n",
      "                                                                 \n",
      " dense (Dense)               (None, 128)               6422656   \n",
      "                                                                 \n",
      " dense_1 (Dense)             (None, 3)                 387       \n",
      "                                                                 \n",
      "=================================================================\n",
      "Total params: 6,446,627\n",
      "Trainable params: 6,446,627\n",
      "Non-trainable params: 0\n",
      "_________________________________________________________________\n"
     ]
    }
   ],
   "source": [
    "model.summary()"
   ]
  }
 ],
 "metadata": {
  "kernelspec": {
   "display_name": "Python 3 (ipykernel)",
   "language": "python",
   "name": "python3"
  },
  "language_info": {
   "codemirror_mode": {
    "name": "ipython",
    "version": 3
   },
   "file_extension": ".py",
   "mimetype": "text/x-python",
   "name": "python",
   "nbconvert_exporter": "python",
   "pygments_lexer": "ipython3",
   "version": "3.9.13"
  }
 },
 "nbformat": 4,
 "nbformat_minor": 4
}
